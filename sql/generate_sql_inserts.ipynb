{
 "cells": [
  {
   "cell_type": "code",
   "execution_count": 1,
   "metadata": {},
   "outputs": [],
   "source": [
    "import json, requests\n",
    "from datetime import datetime, timedelta\n",
    "from dateutil.relativedelta import relativedelta\n",
    "import pandas as pd\n",
    "\n",
    "headers = {\n",
    "    'x-rapidapi-key': \"fe64c2341amsh4943f70e7aa3c5cp14dd05jsnbc6fcc0f9c7b\",\n",
    "    'x-rapidapi-host': \"apidojo-yahoo-finance-v1.p.rapidapi.com\"\n",
    "    }\n"
   ]
  },
  {
   "cell_type": "code",
   "execution_count": 2,
   "metadata": {},
   "outputs": [],
   "source": [
    "# manually set variables for our user\n",
    "account_id = 12345\n",
    "cash_amount = 1000.00\n",
    "investment_account = {\n",
    "    \"GME\": 20,\n",
    "    \"TSLA\": 30,\n",
    "    \"TR\": 300,\n",
    "    \"SPY\": 75,\n",
    "    \"AMD\": 10,\n",
    "    \"GOOG\": 0.5,\n",
    "    \"AAPL\": 30,\n",
    "    \"FB\": 10,\n",
    "    \"NOK\": 200,\n",
    "    \"AMC\": 50,\n",
    "    \n",
    "}"
   ]
  },
  {
   "cell_type": "code",
   "execution_count": 3,
   "metadata": {},
   "outputs": [],
   "source": [
    "# GENERATES ACCOUNT HISTORY FOR SQL\n",
    "account_history_sql = []\n",
    "instruments_sql = []\n",
    "\n",
    "instruments_history = {}\n",
    "three_months_ago = datetime.now().date() - relativedelta(months=3)\n",
    "yesterday = datetime.now().date() - timedelta(days=1)\n",
    "dates = [date.to_pydatetime().date() for date in pd.date_range(start=three_months_ago, end=yesterday)]\n",
    "\n",
    "# kind of lazy, but need today's instrument price for instrument data\n",
    "today_price = {}\n",
    "\n",
    "for symbol in investment_account.keys():\n",
    "    # go to api for historical data\n",
    "    url = \"https://apidojo-yahoo-finance-v1.p.rapidapi.com/stock/v3/get-historical-data\"\n",
    "    querystring = {\"symbol\": symbol,\"region\":\"US\"}\n",
    "    response = requests.request(\"GET\", url, headers=headers, params=querystring)\n",
    "    prices = json.loads(response.text)[\"prices\"]\n",
    "\n",
    "    for price in prices:\n",
    "        if datetime.fromtimestamp(price[\"date\"]).date() in dates and \"adjclose\" in price:\n",
    "            today_price[symbol] = price[\"adjclose\"]\n",
    "            if datetime.fromtimestamp(price[\"date\"]).date() not in instruments_history:\n",
    "                instruments_history[datetime.fromtimestamp(price[\"date\"]).date()] = {symbol: price[\"adjclose\"] * investment_account[symbol]}\n",
    "            else:\n",
    "                instruments_history[datetime.fromtimestamp(price[\"date\"]).date()][symbol] = price[\"adjclose\"] * investment_account[symbol]\n",
    "                        \n",
    "# generate sql statements for account history\n",
    "for date in instruments_history:\n",
    "    account_history_sql.append(\"INSERT INTO account_history VALUES({0}, '{1}', {2});\".format(account_id, str(date), round(sum(instruments_history[date].values()) + cash_amount, 2)))"
   ]
  },
  {
   "cell_type": "code",
   "execution_count": 4,
   "metadata": {},
   "outputs": [],
   "source": [
    "# GENERATES INSTRUMENT DATA FOR SQL\n",
    "for symbol in investment_account.keys():\n",
    "    # go to api for instrument summaries\n",
    "    url = \"https://apidojo-yahoo-finance-v1.p.rapidapi.com/stock/v2/get-summary\"\n",
    "    querystring = {\"symbol\": symbol,\"region\":\"US\"}\n",
    "    response = requests.request(\"GET\", url, headers=headers, params=querystring)\n",
    "    summary = json.loads(response.text)[\"quoteType\"]\n",
    "    \n",
    "    # generate sql statements for instrument summaries\n",
    "    if summary[\"quoteType\"] == \"EQUITY\":\n",
    "        instruments_sql.append(\"INSERT INTO instruments VALUES('{0}', '{1}', '{2}', {3});\".format(symbol, summary[\"longName\"], \"Stock\", today_price[symbol]))\n",
    "    else:\n",
    "        instruments_sql.append(\"INSERT INTO instruments VALUES('{0}', '{1}', '{2}', {3});\".format(symbol, summary[\"longName\"], summary[\"quoteType\"].lower().title(), today_price[symbol]))   "
   ]
  },
  {
   "cell_type": "code",
   "execution_count": 5,
   "metadata": {},
   "outputs": [],
   "source": [
    "file = open(\"insertData.sql\", \"a\")\n",
    "for statement in instruments_sql:\n",
    "    file.write(statement + \"\\n\")\n",
    "file.write(\"\\n\")\n",
    "for statement in account_history_sql:\n",
    "    file.write(statement + \"\\n\")\n",
    "file.close()"
   ]
  }
 ],
 "metadata": {
  "kernelspec": {
   "display_name": "Python 3",
   "language": "python",
   "name": "python3"
  },
  "language_info": {
   "codemirror_mode": {
    "name": "ipython",
    "version": 3
   },
   "file_extension": ".py",
   "mimetype": "text/x-python",
   "name": "python",
   "nbconvert_exporter": "python",
   "pygments_lexer": "ipython3",
   "version": "3.8.5"
  }
 },
 "nbformat": 4,
 "nbformat_minor": 4
}
