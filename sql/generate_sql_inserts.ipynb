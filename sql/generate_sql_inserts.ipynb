{
 "cells": [
  {
   "cell_type": "code",
   "execution_count": 1,
   "metadata": {},
   "outputs": [],
   "source": [
    "import json, requests\n",
    "from datetime import datetime\n",
    "from dateutil.relativedelta import relativedelta\n",
    "\n",
    "headers = {\n",
    "    'x-rapidapi-key': \"689dad5751msh99cc2e93ffca412p124552jsnf5c96d920412\",\n",
    "    'x-rapidapi-host': \"apidojo-yahoo-finance-v1.p.rapidapi.com\"\n",
    "    }\n"
   ]
  },
  {
   "cell_type": "code",
   "execution_count": 2,
   "metadata": {},
   "outputs": [],
   "source": [
    "# manually set variables for our user\n",
    "account_id = 1001\n",
    "cash_amount = 1000.00\n",
    "investment_account = {\n",
    "    \"GME\": 20,\n",
    "    \"TSLA\": 30,\n",
    "    \"TR\": 300,\n",
    "    \"SPY\": 75,\n",
    "    \"AMD\": 10,\n",
    "    \"GOOG\": 0.5,\n",
    "    \"AAPL\": 30,\n",
    "    \"FB\": 10,\n",
    "    \"NOK\": 200,\n",
    "    \"AMC\": 50,\n",
    "    \n",
    "}"
   ]
  },
  {
   "cell_type": "code",
   "execution_count": 3,
   "metadata": {},
   "outputs": [],
   "source": [
    "# GENERATES ACCOUNT HISTORY AND INSTRUMENT DATA FOR SQL\n",
    "account_history_sql = []\n",
    "instruments_sql = []\n",
    "\n",
    "for symbol in investment_account.keys():\n",
    "    # go to api for historical data\n",
    "    url = \"https://apidojo-yahoo-finance-v1.p.rapidapi.com/stock/v3/get-historical-data\"\n",
    "    querystring = {\"symbol\": symbol,\"region\":\"US\"}\n",
    "    response = requests.request(\"GET\", url, headers=headers, params=querystring)\n",
    "    prices = json.loads(response.text)[\"prices\"]\n",
    "    \n",
    "    # only want to save the relevant dates ie- past 3 months as well as the adjusted close prices\n",
    "    save_dates = []\n",
    "    today_price = None;\n",
    "    for price in prices:\n",
    "        if datetime.fromtimestamp(price[\"date\"]).date() >= datetime.today().date() - relativedelta(months=3) and \"adjclose\" in price:\n",
    "            # saving today's price for the instruments data in the next step\n",
    "            if datetime.fromtimestamp(price[\"date\"]).date() >= datetime.today().date():\n",
    "                today_price = price[\"adjclose\"]\n",
    "            # generate sql statements for account history\n",
    "            account_history_sql.append(\"INSERT INTO account_history VALUES({0}, {1}, {2});\".format(account_id, str(datetime.fromtimestamp(price[\"date\"]).date()), round(price[\"adjclose\"] * investment_account[symbol] + cash_amount, 2)))\n",
    "    \n",
    "    # go to api for instrument summaries\n",
    "    url = \"https://apidojo-yahoo-finance-v1.p.rapidapi.com/stock/v2/get-summary\"\n",
    "    querystring = {\"symbol\": symbol,\"region\":\"US\"}\n",
    "    response = requests.request(\"GET\", url, headers=headers, params=querystring)\n",
    "    summary = json.loads(response.text)[\"quoteType\"]\n",
    "    \n",
    "    # generate sql statements for instrument summaries\n",
    "    if summary[\"quoteType\"] == \"EQUITY\":\n",
    "        instruments_sql.append(\"INSERT INTO instruments VALUES({0}, {1}, {2}, {3});\".format(symbol, summary[\"longName\"], \"Stock\", today_price))\n",
    "    else:\n",
    "        instruments_sql.append(\"INSERT INTO instruments VALUES({0}, {1}, {2}, {3});\".format(symbol, summary[\"longName\"], summary[\"quoteType\"].lower().title(), today_price))   "
   ]
  },
  {
   "cell_type": "code",
   "execution_count": 4,
   "metadata": {},
   "outputs": [],
   "source": [
    "file = open(\"insertData.sql\", \"a\")\n",
    "for statement in account_history_sql:\n",
    "    file.write(statement + \"\\n\")\n",
    "file.write(\"\\n\")\n",
    "for statement in instruments_sql:\n",
    "    file.write(statement + \"\\n\")\n",
    "file.close()"
   ]
  }
 ],
 "metadata": {
  "kernelspec": {
   "display_name": "Python 3",
   "language": "python",
   "name": "python3"
  },
  "language_info": {
   "codemirror_mode": {
    "name": "ipython",
    "version": 3
   },
   "file_extension": ".py",
   "mimetype": "text/x-python",
   "name": "python",
   "nbconvert_exporter": "python",
   "pygments_lexer": "ipython3",
   "version": "3.8.5"
  }
 },
 "nbformat": 4,
 "nbformat_minor": 4
}
