{
 "cells": [
  {
   "cell_type": "code",
   "execution_count": 1,
   "metadata": {},
   "outputs": [],
   "source": [
    "import json, requests\n",
    "from datetime import datetime, timedelta\n",
    "from dateutil.relativedelta import relativedelta\n",
    "import pandas as pd\n",
    "\n",
    "headers = {\n",
    "    'x-rapidapi-key': \"fe64c2341amsh4943f70e7aa3c5cp14dd05jsnbc6fcc0f9c7b\",\n",
    "    'x-rapidapi-host': \"apidojo-yahoo-finance-v1.p.rapidapi.com\"\n",
    "    }\n"
   ]
  },
  {
   "cell_type": "code",
   "execution_count": 2,
   "metadata": {},
   "outputs": [],
   "source": [
    "# manually set variables for our user\n",
    "account_id = 12345\n",
    "cash_amount = 1000.00\n",
    "investment_account = {\n",
    "    \"GME\": 20,\n",
    "    \"TSLA\": 30,\n",
    "    \"TR\": 300,\n",
    "    \"SPY\": 75,\n",
    "    \"AMD\": 10,\n",
    "    \"GOOG\": 0.5,\n",
    "    \"AAPL\": 30,\n",
    "    \"FB\": 10,\n",
    "    \"NOK\": 200,\n",
    "    \"AMC\": 50,\n",
    "    \n",
    "}"
   ]
  },
  {
   "cell_type": "code",
   "execution_count": 3,
   "metadata": {},
   "outputs": [],
   "source": [
    "# GENERATES ACCOUNT HISTORY FOR SQL\n",
    "account_history_sql = []\n",
    "instruments_sql = []\n",
    "\n",
    "instruments_history = {}\n",
    "three_months_ago = datetime.now().date() - relativedelta(months=3)\n",
    "yesterday = datetime.now().date() - timedelta(days=1)\n",
    "dates = [date.to_pydatetime().date() for date in pd.date_range(start=three_months_ago, end=yesterday)]\n",
    "\n",
    "# kind of lazy, but need today's instrument price for instrument data\n",
    "today_price = {}\n",
    "\n",
    "for symbol in investment_account.keys():\n",
    "    # go to api for historical data\n",
    "    url = \"https://apidojo-yahoo-finance-v1.p.rapidapi.com/stock/v3/get-historical-data\"\n",
    "    querystring = {\"symbol\": symbol,\"region\":\"US\"}\n",
    "    response = requests.request(\"GET\", url, headers=headers, params=querystring)\n",
    "    prices = json.loads(response.text)[\"prices\"]\n",
    "\n",
    "    for price in prices:\n",
    "        if datetime.fromtimestamp(price[\"date\"]).date() in dates and \"adjclose\" in price:\n",
    "            today_price[symbol] = price[\"adjclose\"]\n",
    "            if datetime.fromtimestamp(price[\"date\"]).date() not in instruments_history:\n",
    "                instruments_history[datetime.fromtimestamp(price[\"date\"]).date()] = {symbol: price[\"adjclose\"] * investment_account[symbol]}\n",
    "            else:\n",
    "                instruments_history[datetime.fromtimestamp(price[\"date\"]).date()][symbol] = price[\"adjclose\"] * investment_account[symbol]\n",
    "                        \n",
    "# generate sql statements for account history\n",
    "for date in instruments_history:\n",
    "    account_history_sql.append(\"INSERT INTO account_history VALUES({0}, '{1}', {2});\".format(account_id, str(date), round(sum(instruments_history[date].values()) + cash_amount, 2)))"
   ]
  },
  {
   "cell_type": "code",
   "execution_count": 4,
   "metadata": {},
   "outputs": [],
   "source": [
    "# GENERATES INSTRUMENT DATA FOR SQL\n",
    "for symbol in investment_account.keys():\n",
    "    # go to api for instrument summaries\n",
    "    url = \"https://apidojo-yahoo-finance-v1.p.rapidapi.com/stock/v2/get-summary\"\n",
    "    querystring = {\"symbol\": symbol,\"region\":\"US\"}\n",
    "    response = requests.request(\"GET\", url, headers=headers, params=querystring)\n",
    "    summary = json.loads(response.text)[\"quoteType\"]\n",
    "    \n",
    "    # generate sql statements for instrument summaries\n",
    "    if summary[\"quoteType\"] == \"EQUITY\":\n",
    "        instruments_sql.append(\"INSERT INTO instruments VALUES('{0}', '{1}', '{2}', {3});\".format(symbol, summary[\"longName\"], \"Stock\", today_price[symbol]))\n",
    "    else:\n",
    "        instruments_sql.append(\"INSERT INTO instruments VALUES('{0}', '{1}', '{2}', {3});\".format(symbol, summary[\"longName\"], summary[\"quoteType\"].lower().title(), today_price[symbol]))   "
   ]
  },
  {
   "cell_type": "code",
   "execution_count": 19,
   "metadata": {},
   "outputs": [],
   "source": [
    "other_sql = []\n",
    "other_sql.append(\"INSERT INTO users VALUES(1001, 'password1');\")\n",
    "other_sql.append(\"INSERT INTO users VALUES(1002, 'password2');\")\n",
    "\n",
    "other_sql.append(\"INSERT INTO accounts VALUES(12345, 1001, 'A investment acc', 'Investment', {0});\".format(round(sum(instruments_history[list(instruments_history)[0]].values()) + cash_amount, 2)))\n",
    "other_sql.append(\"INSERT INTO accounts VALUES(67890, 1001, 'A banking acc', 'Banking', 5000.45);\")\n",
    "other_sql.append(\"INSERT INTO accounts VALUES(13579, 1001, 'A banking acc 2', 'Banking', 75.90);\")\n",
    "\n",
    "other_sql.append(\"INSERT INTO banking_acc_info VALUES(67890, 'Checking', 0.05);\")\n",
    "other_sql.append(\"INSERT INTO banking_acc_info VALUES(13579, 'Savings', 0.07);\")\n",
    "\n",
    "other_sql.append(\"INSERT INTO investment_acc_info VALUES(12345, 'RRSP', 1000);\")\n",
    "\n",
    "other_sql.append(\"INSERT INTO account_transactions VALUES(13579, 67890, '2021-08-31', 'shopping', 'kids bday', -200.00);\")\n",
    "other_sql.append(\"INSERT INTO account_transactions VALUES(24680, 67890, '2021-08-30', 'deposit', 'payday', 800.00);\")\n",
    "\n",
    "investments_sql = []\n",
    "for symbol in investment_account:\n",
    "    prices = []\n",
    "    for date in instruments_history.keys():\n",
    "        prices.append(instruments_history[date][symbol])\n",
    "    investments_sql.append(\"INSERT INTO investments VALUES({0}, '{1}', {2}, {3});\".format(account_id, symbol, investment_account[symbol], round(sum(prices)/len(prices), 2)))\n",
    "\n"
   ]
  },
  {
   "cell_type": "code",
   "execution_count": 24,
   "metadata": {},
   "outputs": [],
   "source": [
    "file = open(\"insertData.sql\", \"a\")\n",
    "for statement in other_sql:\n",
    "    file.write(statement + \"\\n\")\n",
    "for statement in instruments_sql:\n",
    "    file.write(statement + \"\\n\")\n",
    "for statement in account_history_sql:\n",
    "    file.write(statement + \"\\n\")\n",
    "for statement in investments_sql:\n",
    "    file.write(statement + \"\\n\")\n",
    "file.close()"
   ]
  }
 ],
 "metadata": {
  "kernelspec": {
   "display_name": "Python 3",
   "language": "python",
   "name": "python3"
  },
  "language_info": {
   "codemirror_mode": {
    "name": "ipython",
    "version": 3
   },
   "file_extension": ".py",
   "mimetype": "text/x-python",
   "name": "python",
   "nbconvert_exporter": "python",
   "pygments_lexer": "ipython3",
   "version": "3.8.5"
  }
 },
 "nbformat": 4,
 "nbformat_minor": 4
}
